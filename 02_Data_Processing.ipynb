{
 "cells": [
  {
   "cell_type": "code",
   "execution_count": 2,
   "id": "ca0a3489",
   "metadata": {
    "ExecuteTime": {
     "end_time": "2021-08-27T11:18:02.183149Z",
     "start_time": "2021-08-27T11:18:00.633878Z"
    }
   },
   "outputs": [],
   "source": [
    "# Import packages\n",
    "import pandas as pd\n",
    "import numpy as np\n",
    "import matplotlib.pyplot as plt\n",
    "import seaborn as sns\n",
    "from xml.etree import ElementTree as ET\n",
    "from tqdm import tqdm\n",
    "from sklearn.feature_extraction.text import TfidfVectorizer\n",
    "from sklearn.decomposition import TruncatedSVD"
   ]
  },
  {
   "cell_type": "markdown",
   "id": "3a7c8362",
   "metadata": {},
   "source": [
    "# I. Data Profiling\n",
    "- The data was inspected to see assess the integrity of the data collected."
   ]
  },
  {
   "cell_type": "code",
   "execution_count": 3,
   "id": "0d14c562",
   "metadata": {
    "ExecuteTime": {
     "end_time": "2021-08-27T11:18:10.122548Z",
     "start_time": "2021-08-27T11:18:02.186320Z"
    }
   },
   "outputs": [
    {
     "name": "stdout",
     "output_type": "stream",
     "text": [
      "(2941771, 5)\n",
      "<class 'pandas.core.frame.DataFrame'>\n",
      "RangeIndex: 2941771 entries, 0 to 2941770\n",
      "Data columns (total 5 columns):\n",
      " #   Column      Dtype \n",
      "---  ------      ----- \n",
      " 0   Unnamed: 0  int64 \n",
      " 1   XML_Line    int64 \n",
      " 2   Date        object\n",
      " 3   Title       object\n",
      " 4   Tags        object\n",
      "dtypes: int64(2), object(3)\n",
      "memory usage: 112.2+ MB\n"
     ]
    },
    {
     "data": {
      "text/plain": [
       "None"
      ]
     },
     "metadata": {},
     "output_type": "display_data"
    },
    {
     "data": {
      "text/html": [
       "<div>\n",
       "<style scoped>\n",
       "    .dataframe tbody tr th:only-of-type {\n",
       "        vertical-align: middle;\n",
       "    }\n",
       "\n",
       "    .dataframe tbody tr th {\n",
       "        vertical-align: top;\n",
       "    }\n",
       "\n",
       "    .dataframe thead th {\n",
       "        text-align: right;\n",
       "    }\n",
       "</style>\n",
       "<table border=\"1\" class=\"dataframe\">\n",
       "  <thead>\n",
       "    <tr style=\"text-align: right;\">\n",
       "      <th></th>\n",
       "      <th>Unnamed: 0</th>\n",
       "      <th>XML_Line</th>\n",
       "      <th>Date</th>\n",
       "      <th>Title</th>\n",
       "      <th>Tags</th>\n",
       "    </tr>\n",
       "  </thead>\n",
       "  <tbody>\n",
       "    <tr>\n",
       "      <th>0</th>\n",
       "      <td>0</td>\n",
       "      <td>24</td>\n",
       "      <td>2008-08-01T12:35:56.917</td>\n",
       "      <td>Check for changes to an SQL Server table?</td>\n",
       "      <td>sql|sql-server|datatable|rdbms</td>\n",
       "    </tr>\n",
       "    <tr>\n",
       "      <th>1</th>\n",
       "      <td>0</td>\n",
       "      <td>54</td>\n",
       "      <td>2008-08-01T14:19:52.510</td>\n",
       "      <td>Flat file databases</td>\n",
       "      <td>php|sql|database|flat-file</td>\n",
       "    </tr>\n",
       "    <tr>\n",
       "      <th>2</th>\n",
       "      <td>0</td>\n",
       "      <td>68</td>\n",
       "      <td>2008-08-01T15:23:05.190</td>\n",
       "      <td>Decoding T-SQL CAST in C#/VB.NET</td>\n",
       "      <td>c#|sql|vb.net|ascii|hex</td>\n",
       "    </tr>\n",
       "    <tr>\n",
       "      <th>3</th>\n",
       "      <td>0</td>\n",
       "      <td>75</td>\n",
       "      <td>2008-08-01T15:50:08.537</td>\n",
       "      <td>ASP.NET Site Maps</td>\n",
       "      <td>sql|asp.net|xml|sitemap</td>\n",
       "    </tr>\n",
       "    <tr>\n",
       "      <th>4</th>\n",
       "      <td>0</td>\n",
       "      <td>76</td>\n",
       "      <td>2008-08-01T16:08:52.353</td>\n",
       "      <td>Java lib or app to convert CSV to XML file?</td>\n",
       "      <td>java|xml|csv|data-conversion</td>\n",
       "    </tr>\n",
       "  </tbody>\n",
       "</table>\n",
       "</div>"
      ],
      "text/plain": [
       "   Unnamed: 0  XML_Line                     Date  \\\n",
       "0           0        24  2008-08-01T12:35:56.917   \n",
       "1           0        54  2008-08-01T14:19:52.510   \n",
       "2           0        68  2008-08-01T15:23:05.190   \n",
       "3           0        75  2008-08-01T15:50:08.537   \n",
       "4           0        76  2008-08-01T16:08:52.353   \n",
       "\n",
       "                                         Title                            Tags  \n",
       "0    Check for changes to an SQL Server table?  sql|sql-server|datatable|rdbms  \n",
       "1                          Flat file databases      php|sql|database|flat-file  \n",
       "2             Decoding T-SQL CAST in C#/VB.NET         c#|sql|vb.net|ascii|hex  \n",
       "3                            ASP.NET Site Maps         sql|asp.net|xml|sitemap  \n",
       "4  Java lib or app to convert CSV to XML file?    java|xml|csv|data-conversion  "
      ]
     },
     "execution_count": 3,
     "metadata": {},
     "output_type": "execute_result"
    }
   ],
   "source": [
    "# Read and inspect data\n",
    "df = pd.read_csv('stackexchange_data.csv')\n",
    "\n",
    "print(df.shape)\n",
    "display(df.info())\n",
    "df.head()"
   ]
  },
  {
   "cell_type": "code",
   "execution_count": 4,
   "id": "dbe3e8da",
   "metadata": {
    "ExecuteTime": {
     "end_time": "2021-08-27T11:18:10.508695Z",
     "start_time": "2021-08-27T11:18:10.127247Z"
    }
   },
   "outputs": [
    {
     "data": {
      "text/plain": [
       "Unnamed: 0    0\n",
       "XML_Line      0\n",
       "Date          0\n",
       "Title         0\n",
       "Tags          0\n",
       "dtype: int64"
      ]
     },
     "execution_count": 4,
     "metadata": {},
     "output_type": "execute_result"
    }
   ],
   "source": [
    "# Check for missing values\n",
    "df.isna().sum()"
   ]
  },
  {
   "cell_type": "markdown",
   "id": "99656e29",
   "metadata": {},
   "source": [
    "## Data-Processing"
   ]
  },
  {
   "cell_type": "code",
   "execution_count": 5,
   "id": "293fa8aa",
   "metadata": {
    "ExecuteTime": {
     "end_time": "2021-08-27T11:18:10.673675Z",
     "start_time": "2021-08-27T11:18:10.511253Z"
    }
   },
   "outputs": [],
   "source": [
    "# Create copy of dataframe\n",
    "df_2 = df.copy()"
   ]
  },
  {
   "cell_type": "markdown",
   "id": "1091ab17",
   "metadata": {},
   "source": [
    "### 1. Obtain only documents with Python tag\n",
    "- The scope of the analysis will be limited to only posts with the Python tag."
   ]
  },
  {
   "cell_type": "code",
   "execution_count": 6,
   "id": "7e6ea41f",
   "metadata": {
    "ExecuteTime": {
     "end_time": "2021-08-27T11:18:17.275903Z",
     "start_time": "2021-08-27T11:18:10.676092Z"
    }
   },
   "outputs": [
    {
     "data": {
      "text/html": [
       "<div>\n",
       "<style scoped>\n",
       "    .dataframe tbody tr th:only-of-type {\n",
       "        vertical-align: middle;\n",
       "    }\n",
       "\n",
       "    .dataframe tbody tr th {\n",
       "        vertical-align: top;\n",
       "    }\n",
       "\n",
       "    .dataframe thead th {\n",
       "        text-align: right;\n",
       "    }\n",
       "</style>\n",
       "<table border=\"1\" class=\"dataframe\">\n",
       "  <thead>\n",
       "    <tr style=\"text-align: right;\">\n",
       "      <th></th>\n",
       "      <th>Unnamed: 0</th>\n",
       "      <th>XML_Line</th>\n",
       "      <th>Date</th>\n",
       "      <th>Title</th>\n",
       "      <th>Tags</th>\n",
       "      <th>Tags-2</th>\n",
       "    </tr>\n",
       "  </thead>\n",
       "  <tbody>\n",
       "    <tr>\n",
       "      <th>0</th>\n",
       "      <td>0</td>\n",
       "      <td>24</td>\n",
       "      <td>2008-08-01T12:35:56.917</td>\n",
       "      <td>Check for changes to an SQL Server table?</td>\n",
       "      <td>sql|sql-server|datatable|rdbms</td>\n",
       "      <td>[sql, sql-server, datatable, rdbms]</td>\n",
       "    </tr>\n",
       "    <tr>\n",
       "      <th>1</th>\n",
       "      <td>0</td>\n",
       "      <td>54</td>\n",
       "      <td>2008-08-01T14:19:52.510</td>\n",
       "      <td>Flat file databases</td>\n",
       "      <td>php|sql|database|flat-file</td>\n",
       "      <td>[php, sql, database, flat-file]</td>\n",
       "    </tr>\n",
       "    <tr>\n",
       "      <th>2</th>\n",
       "      <td>0</td>\n",
       "      <td>68</td>\n",
       "      <td>2008-08-01T15:23:05.190</td>\n",
       "      <td>Decoding T-SQL CAST in C#/VB.NET</td>\n",
       "      <td>c#|sql|vb.net|ascii|hex</td>\n",
       "      <td>[c#, sql, vb.net, ascii, hex]</td>\n",
       "    </tr>\n",
       "    <tr>\n",
       "      <th>3</th>\n",
       "      <td>0</td>\n",
       "      <td>75</td>\n",
       "      <td>2008-08-01T15:50:08.537</td>\n",
       "      <td>ASP.NET Site Maps</td>\n",
       "      <td>sql|asp.net|xml|sitemap</td>\n",
       "      <td>[sql, asp.net, xml, sitemap]</td>\n",
       "    </tr>\n",
       "    <tr>\n",
       "      <th>4</th>\n",
       "      <td>0</td>\n",
       "      <td>76</td>\n",
       "      <td>2008-08-01T16:08:52.353</td>\n",
       "      <td>Java lib or app to convert CSV to XML file?</td>\n",
       "      <td>java|xml|csv|data-conversion</td>\n",
       "      <td>[java, xml, csv, data-conversion]</td>\n",
       "    </tr>\n",
       "  </tbody>\n",
       "</table>\n",
       "</div>"
      ],
      "text/plain": [
       "   Unnamed: 0  XML_Line                     Date  \\\n",
       "0           0        24  2008-08-01T12:35:56.917   \n",
       "1           0        54  2008-08-01T14:19:52.510   \n",
       "2           0        68  2008-08-01T15:23:05.190   \n",
       "3           0        75  2008-08-01T15:50:08.537   \n",
       "4           0        76  2008-08-01T16:08:52.353   \n",
       "\n",
       "                                         Title  \\\n",
       "0    Check for changes to an SQL Server table?   \n",
       "1                          Flat file databases   \n",
       "2             Decoding T-SQL CAST in C#/VB.NET   \n",
       "3                            ASP.NET Site Maps   \n",
       "4  Java lib or app to convert CSV to XML file?   \n",
       "\n",
       "                             Tags                               Tags-2  \n",
       "0  sql|sql-server|datatable|rdbms  [sql, sql-server, datatable, rdbms]  \n",
       "1      php|sql|database|flat-file      [php, sql, database, flat-file]  \n",
       "2         c#|sql|vb.net|ascii|hex        [c#, sql, vb.net, ascii, hex]  \n",
       "3         sql|asp.net|xml|sitemap         [sql, asp.net, xml, sitemap]  \n",
       "4    java|xml|csv|data-conversion    [java, xml, csv, data-conversion]  "
      ]
     },
     "execution_count": 6,
     "metadata": {},
     "output_type": "execute_result"
    }
   ],
   "source": [
    "# Convert the obtained tags to a list\n",
    "df_2[\"Tags-2\"] = df_2[\"Tags\"].str.split('|')\n",
    "df_2.head()"
   ]
  },
  {
   "cell_type": "code",
   "execution_count": 6,
   "id": "ea0d491e",
   "metadata": {
    "ExecuteTime": {
     "end_time": "2021-08-27T09:51:47.364506Z",
     "start_time": "2021-08-27T09:51:40.155221Z"
    }
   },
   "outputs": [
    {
     "data": {
      "text/html": [
       "<div>\n",
       "<style scoped>\n",
       "    .dataframe tbody tr th:only-of-type {\n",
       "        vertical-align: middle;\n",
       "    }\n",
       "\n",
       "    .dataframe tbody tr th {\n",
       "        vertical-align: top;\n",
       "    }\n",
       "\n",
       "    .dataframe thead th {\n",
       "        text-align: right;\n",
       "    }\n",
       "</style>\n",
       "<table border=\"1\" class=\"dataframe\">\n",
       "  <thead>\n",
       "    <tr style=\"text-align: right;\">\n",
       "      <th></th>\n",
       "      <th>Unnamed: 0</th>\n",
       "      <th>XML_Line</th>\n",
       "      <th>Date</th>\n",
       "      <th>Title</th>\n",
       "      <th>Tags</th>\n",
       "      <th>Tags-2</th>\n",
       "    </tr>\n",
       "  </thead>\n",
       "  <tbody>\n",
       "    <tr>\n",
       "      <th>10</th>\n",
       "      <td>0</td>\n",
       "      <td>163</td>\n",
       "      <td>2008-08-02T03:35:55.697</td>\n",
       "      <td>XML Processing in Python</td>\n",
       "      <td>python|xml</td>\n",
       "      <td>python</td>\n",
       "    </tr>\n",
       "    <tr>\n",
       "      <th>10</th>\n",
       "      <td>0</td>\n",
       "      <td>163</td>\n",
       "      <td>2008-08-02T03:35:55.697</td>\n",
       "      <td>XML Processing in Python</td>\n",
       "      <td>python|xml</td>\n",
       "      <td>xml</td>\n",
       "    </tr>\n",
       "    <tr>\n",
       "      <th>11</th>\n",
       "      <td>0</td>\n",
       "      <td>198</td>\n",
       "      <td>2008-08-02T15:11:16.430</td>\n",
       "      <td>How can I find the full path to a font from it...</td>\n",
       "      <td>python|macos|fonts|photoshop</td>\n",
       "      <td>python</td>\n",
       "    </tr>\n",
       "    <tr>\n",
       "      <th>11</th>\n",
       "      <td>0</td>\n",
       "      <td>198</td>\n",
       "      <td>2008-08-02T15:11:16.430</td>\n",
       "      <td>How can I find the full path to a font from it...</td>\n",
       "      <td>python|macos|fonts|photoshop</td>\n",
       "      <td>macos</td>\n",
       "    </tr>\n",
       "    <tr>\n",
       "      <th>11</th>\n",
       "      <td>0</td>\n",
       "      <td>198</td>\n",
       "      <td>2008-08-02T15:11:16.430</td>\n",
       "      <td>How can I find the full path to a font from it...</td>\n",
       "      <td>python|macos|fonts|photoshop</td>\n",
       "      <td>fonts</td>\n",
       "    </tr>\n",
       "  </tbody>\n",
       "</table>\n",
       "</div>"
      ],
      "text/plain": [
       "    Unnamed: 0  XML_Line                     Date  \\\n",
       "10           0       163  2008-08-02T03:35:55.697   \n",
       "10           0       163  2008-08-02T03:35:55.697   \n",
       "11           0       198  2008-08-02T15:11:16.430   \n",
       "11           0       198  2008-08-02T15:11:16.430   \n",
       "11           0       198  2008-08-02T15:11:16.430   \n",
       "\n",
       "                                                Title  \\\n",
       "10                           XML Processing in Python   \n",
       "10                           XML Processing in Python   \n",
       "11  How can I find the full path to a font from it...   \n",
       "11  How can I find the full path to a font from it...   \n",
       "11  How can I find the full path to a font from it...   \n",
       "\n",
       "                            Tags  Tags-2  \n",
       "10                    python|xml  python  \n",
       "10                    python|xml     xml  \n",
       "11  python|macos|fonts|photoshop  python  \n",
       "11  python|macos|fonts|photoshop   macos  \n",
       "11  python|macos|fonts|photoshop   fonts  "
      ]
     },
     "execution_count": 6,
     "metadata": {},
     "output_type": "execute_result"
    }
   ],
   "source": [
    "# Filter the new dataframe to those only with python as a tag \n",
    "# Then create a column with one tag per row\n",
    "keywords = ['python']\n",
    "df_sub = df_2[df_2['Tags'].apply(lambda x: any([k in x for k in keywords]))]\n",
    "df_sub = df_sub.explode(\"Tags-2\")\n",
    "df_sub.head()"
   ]
  },
  {
   "cell_type": "code",
   "execution_count": 7,
   "id": "509fcbb3",
   "metadata": {
    "ExecuteTime": {
     "end_time": "2021-08-27T09:51:48.388581Z",
     "start_time": "2021-08-27T09:51:47.366154Z"
    }
   },
   "outputs": [
    {
     "name": "stdout",
     "output_type": "stream",
     "text": [
      "(4328086, 6)\n"
     ]
    },
    {
     "data": {
      "text/plain": [
       "22570"
      ]
     },
     "execution_count": 7,
     "metadata": {},
     "output_type": "execute_result"
    }
   ],
   "source": [
    "# Insect the filtered dataframe\n",
    "print(df_sub.shape)\n",
    "df_sub['Tags-2'].nunique()"
   ]
  },
  {
   "cell_type": "markdown",
   "id": "f394728c",
   "metadata": {},
   "source": [
    "A total 22570 unique tags in over 4 million posts were obtained. "
   ]
  },
  {
   "cell_type": "markdown",
   "id": "94737bef",
   "metadata": {},
   "source": [
    "# II. Dimensionality Reduction for Each Year\n",
    "### 1. Extract the month and year from the data"
   ]
  },
  {
   "cell_type": "code",
   "execution_count": 8,
   "id": "99e574c9",
   "metadata": {
    "ExecuteTime": {
     "end_time": "2021-08-27T09:52:06.665052Z",
     "start_time": "2021-08-27T09:51:48.393731Z"
    }
   },
   "outputs": [],
   "source": [
    "# Split the date and time portion of the Date column\n",
    "df_sub[['Year_month', 'Time']] = df_sub[\"Date\"].str.split(\"T\", expand=True)"
   ]
  },
  {
   "cell_type": "code",
   "execution_count": 9,
   "id": "524c6ffb",
   "metadata": {
    "ExecuteTime": {
     "end_time": "2021-08-27T09:52:10.540232Z",
     "start_time": "2021-08-27T09:52:06.668097Z"
    }
   },
   "outputs": [
    {
     "data": {
      "text/html": [
       "<div>\n",
       "<style scoped>\n",
       "    .dataframe tbody tr th:only-of-type {\n",
       "        vertical-align: middle;\n",
       "    }\n",
       "\n",
       "    .dataframe tbody tr th {\n",
       "        vertical-align: top;\n",
       "    }\n",
       "\n",
       "    .dataframe thead th {\n",
       "        text-align: right;\n",
       "    }\n",
       "</style>\n",
       "<table border=\"1\" class=\"dataframe\">\n",
       "  <thead>\n",
       "    <tr style=\"text-align: right;\">\n",
       "      <th></th>\n",
       "      <th>Unnamed: 0</th>\n",
       "      <th>XML_Line</th>\n",
       "      <th>Date</th>\n",
       "      <th>Title</th>\n",
       "      <th>Tags</th>\n",
       "      <th>Tags-2</th>\n",
       "      <th>Year_month</th>\n",
       "      <th>Time</th>\n",
       "      <th>yr</th>\n",
       "      <th>month</th>\n",
       "    </tr>\n",
       "  </thead>\n",
       "  <tbody>\n",
       "    <tr>\n",
       "      <th>10</th>\n",
       "      <td>0</td>\n",
       "      <td>163</td>\n",
       "      <td>2008-08-02T03:35:55.697</td>\n",
       "      <td>XML Processing in Python</td>\n",
       "      <td>python|xml</td>\n",
       "      <td>python</td>\n",
       "      <td>2008-08-02</td>\n",
       "      <td>03:35:55.697</td>\n",
       "      <td>2008</td>\n",
       "      <td>2008-08</td>\n",
       "    </tr>\n",
       "    <tr>\n",
       "      <th>10</th>\n",
       "      <td>0</td>\n",
       "      <td>163</td>\n",
       "      <td>2008-08-02T03:35:55.697</td>\n",
       "      <td>XML Processing in Python</td>\n",
       "      <td>python|xml</td>\n",
       "      <td>xml</td>\n",
       "      <td>2008-08-02</td>\n",
       "      <td>03:35:55.697</td>\n",
       "      <td>2008</td>\n",
       "      <td>2008-08</td>\n",
       "    </tr>\n",
       "    <tr>\n",
       "      <th>11</th>\n",
       "      <td>0</td>\n",
       "      <td>198</td>\n",
       "      <td>2008-08-02T15:11:16.430</td>\n",
       "      <td>How can I find the full path to a font from it...</td>\n",
       "      <td>python|macos|fonts|photoshop</td>\n",
       "      <td>python</td>\n",
       "      <td>2008-08-02</td>\n",
       "      <td>15:11:16.430</td>\n",
       "      <td>2008</td>\n",
       "      <td>2008-08</td>\n",
       "    </tr>\n",
       "    <tr>\n",
       "      <th>11</th>\n",
       "      <td>0</td>\n",
       "      <td>198</td>\n",
       "      <td>2008-08-02T15:11:16.430</td>\n",
       "      <td>How can I find the full path to a font from it...</td>\n",
       "      <td>python|macos|fonts|photoshop</td>\n",
       "      <td>macos</td>\n",
       "      <td>2008-08-02</td>\n",
       "      <td>15:11:16.430</td>\n",
       "      <td>2008</td>\n",
       "      <td>2008-08</td>\n",
       "    </tr>\n",
       "    <tr>\n",
       "      <th>11</th>\n",
       "      <td>0</td>\n",
       "      <td>198</td>\n",
       "      <td>2008-08-02T15:11:16.430</td>\n",
       "      <td>How can I find the full path to a font from it...</td>\n",
       "      <td>python|macos|fonts|photoshop</td>\n",
       "      <td>fonts</td>\n",
       "      <td>2008-08-02</td>\n",
       "      <td>15:11:16.430</td>\n",
       "      <td>2008</td>\n",
       "      <td>2008-08</td>\n",
       "    </tr>\n",
       "  </tbody>\n",
       "</table>\n",
       "</div>"
      ],
      "text/plain": [
       "    Unnamed: 0  XML_Line                     Date  \\\n",
       "10           0       163  2008-08-02T03:35:55.697   \n",
       "10           0       163  2008-08-02T03:35:55.697   \n",
       "11           0       198  2008-08-02T15:11:16.430   \n",
       "11           0       198  2008-08-02T15:11:16.430   \n",
       "11           0       198  2008-08-02T15:11:16.430   \n",
       "\n",
       "                                                Title  \\\n",
       "10                           XML Processing in Python   \n",
       "10                           XML Processing in Python   \n",
       "11  How can I find the full path to a font from it...   \n",
       "11  How can I find the full path to a font from it...   \n",
       "11  How can I find the full path to a font from it...   \n",
       "\n",
       "                            Tags  Tags-2  Year_month          Time    yr  \\\n",
       "10                    python|xml  python  2008-08-02  03:35:55.697  2008   \n",
       "10                    python|xml     xml  2008-08-02  03:35:55.697  2008   \n",
       "11  python|macos|fonts|photoshop  python  2008-08-02  15:11:16.430  2008   \n",
       "11  python|macos|fonts|photoshop   macos  2008-08-02  15:11:16.430  2008   \n",
       "11  python|macos|fonts|photoshop   fonts  2008-08-02  15:11:16.430  2008   \n",
       "\n",
       "      month  \n",
       "10  2008-08  \n",
       "10  2008-08  \n",
       "11  2008-08  \n",
       "11  2008-08  \n",
       "11  2008-08  "
      ]
     },
     "execution_count": 9,
     "metadata": {},
     "output_type": "execute_result"
    }
   ],
   "source": [
    "# Obtain the year and month from the date\n",
    "df_sub['yr'] = pd.to_datetime(df_sub['Year_month']).dt.year.astype(int)\n",
    "df_sub['month'] = pd.to_datetime(df_sub['Year_month']).dt.to_period('M')\n",
    "df_sub.head()"
   ]
  },
  {
   "cell_type": "code",
   "execution_count": 10,
   "id": "40204cc4",
   "metadata": {
    "ExecuteTime": {
     "end_time": "2021-08-27T09:52:13.881650Z",
     "start_time": "2021-08-27T09:52:10.542160Z"
    }
   },
   "outputs": [],
   "source": [
    "# Filter the data to only contain the years 2010 to 2019\n",
    "df_new = df_sub[(df_sub[\"yr\"] >= 2010) & (df_sub[\"yr\"] != 2020)]"
   ]
  },
  {
   "cell_type": "code",
   "execution_count": 11,
   "id": "43acdf59",
   "metadata": {
    "ExecuteTime": {
     "end_time": "2021-08-27T09:52:16.555646Z",
     "start_time": "2021-08-27T09:52:13.883475Z"
    },
    "scrolled": true
   },
   "outputs": [
    {
     "name": "stderr",
     "output_type": "stream",
     "text": [
      "<ipython-input-11-5fc7ba97792d>:2: FutureWarning: The default value of regex will change from True to False in a future version. In addition, single character regular expressions will*not* be treated as literal strings when regex=True.\n",
      "  df_new[\"Tags-3\"] = df_new[\"Tags\"].str.replace('|', \" \")\n",
      "<ipython-input-11-5fc7ba97792d>:2: SettingWithCopyWarning: \n",
      "A value is trying to be set on a copy of a slice from a DataFrame.\n",
      "Try using .loc[row_indexer,col_indexer] = value instead\n",
      "\n",
      "See the caveats in the documentation: https://pandas.pydata.org/pandas-docs/stable/user_guide/indexing.html#returning-a-view-versus-a-copy\n",
      "  df_new[\"Tags-3\"] = df_new[\"Tags\"].str.replace('|', \" \")\n"
     ]
    },
    {
     "data": {
      "text/html": [
       "<div>\n",
       "<style scoped>\n",
       "    .dataframe tbody tr th:only-of-type {\n",
       "        vertical-align: middle;\n",
       "    }\n",
       "\n",
       "    .dataframe tbody tr th {\n",
       "        vertical-align: top;\n",
       "    }\n",
       "\n",
       "    .dataframe thead th {\n",
       "        text-align: right;\n",
       "    }\n",
       "</style>\n",
       "<table border=\"1\" class=\"dataframe\">\n",
       "  <thead>\n",
       "    <tr style=\"text-align: right;\">\n",
       "      <th></th>\n",
       "      <th>Unnamed: 0</th>\n",
       "      <th>XML_Line</th>\n",
       "      <th>Date</th>\n",
       "      <th>Title</th>\n",
       "      <th>Tags</th>\n",
       "      <th>Tags-2</th>\n",
       "      <th>Year_month</th>\n",
       "      <th>Time</th>\n",
       "      <th>yr</th>\n",
       "      <th>month</th>\n",
       "      <th>Tags-3</th>\n",
       "    </tr>\n",
       "  </thead>\n",
       "  <tbody>\n",
       "    <tr>\n",
       "      <th>52007</th>\n",
       "      <td>0</td>\n",
       "      <td>1552849</td>\n",
       "      <td>2010-01-01T01:00:23.390</td>\n",
       "      <td>What does this code mean: \"print &gt;&gt; sys.stderr\"</td>\n",
       "      <td>python|syntax</td>\n",
       "      <td>python</td>\n",
       "      <td>2010-01-01</td>\n",
       "      <td>01:00:23.390</td>\n",
       "      <td>2010</td>\n",
       "      <td>2010-01</td>\n",
       "      <td>python syntax</td>\n",
       "    </tr>\n",
       "    <tr>\n",
       "      <th>52007</th>\n",
       "      <td>0</td>\n",
       "      <td>1552849</td>\n",
       "      <td>2010-01-01T01:00:23.390</td>\n",
       "      <td>What does this code mean: \"print &gt;&gt; sys.stderr\"</td>\n",
       "      <td>python|syntax</td>\n",
       "      <td>syntax</td>\n",
       "      <td>2010-01-01</td>\n",
       "      <td>01:00:23.390</td>\n",
       "      <td>2010</td>\n",
       "      <td>2010-01</td>\n",
       "      <td>python syntax</td>\n",
       "    </tr>\n",
       "    <tr>\n",
       "      <th>52009</th>\n",
       "      <td>0</td>\n",
       "      <td>1552875</td>\n",
       "      <td>2010-01-01T01:24:43.583</td>\n",
       "      <td>Sphinx 0.6.3: The languages module cannot be f...</td>\n",
       "      <td>python|python-sphinx</td>\n",
       "      <td>python</td>\n",
       "      <td>2010-01-01</td>\n",
       "      <td>01:24:43.583</td>\n",
       "      <td>2010</td>\n",
       "      <td>2010-01</td>\n",
       "      <td>python python-sphinx</td>\n",
       "    </tr>\n",
       "    <tr>\n",
       "      <th>52009</th>\n",
       "      <td>0</td>\n",
       "      <td>1552875</td>\n",
       "      <td>2010-01-01T01:24:43.583</td>\n",
       "      <td>Sphinx 0.6.3: The languages module cannot be f...</td>\n",
       "      <td>python|python-sphinx</td>\n",
       "      <td>python-sphinx</td>\n",
       "      <td>2010-01-01</td>\n",
       "      <td>01:24:43.583</td>\n",
       "      <td>2010</td>\n",
       "      <td>2010-01</td>\n",
       "      <td>python python-sphinx</td>\n",
       "    </tr>\n",
       "    <tr>\n",
       "      <th>52012</th>\n",
       "      <td>0</td>\n",
       "      <td>1552902</td>\n",
       "      <td>2010-01-01T01:51:46.140</td>\n",
       "      <td>How to print the full NumPy array, without tru...</td>\n",
       "      <td>python|arrays|numpy|options|output-formatting</td>\n",
       "      <td>python</td>\n",
       "      <td>2010-01-01</td>\n",
       "      <td>01:51:46.140</td>\n",
       "      <td>2010</td>\n",
       "      <td>2010-01</td>\n",
       "      <td>python arrays numpy options output-formatting</td>\n",
       "    </tr>\n",
       "  </tbody>\n",
       "</table>\n",
       "</div>"
      ],
      "text/plain": [
       "       Unnamed: 0  XML_Line                     Date  \\\n",
       "52007           0   1552849  2010-01-01T01:00:23.390   \n",
       "52007           0   1552849  2010-01-01T01:00:23.390   \n",
       "52009           0   1552875  2010-01-01T01:24:43.583   \n",
       "52009           0   1552875  2010-01-01T01:24:43.583   \n",
       "52012           0   1552902  2010-01-01T01:51:46.140   \n",
       "\n",
       "                                                   Title  \\\n",
       "52007    What does this code mean: \"print >> sys.stderr\"   \n",
       "52007    What does this code mean: \"print >> sys.stderr\"   \n",
       "52009  Sphinx 0.6.3: The languages module cannot be f...   \n",
       "52009  Sphinx 0.6.3: The languages module cannot be f...   \n",
       "52012  How to print the full NumPy array, without tru...   \n",
       "\n",
       "                                                Tags         Tags-2  \\\n",
       "52007                                  python|syntax         python   \n",
       "52007                                  python|syntax         syntax   \n",
       "52009                           python|python-sphinx         python   \n",
       "52009                           python|python-sphinx  python-sphinx   \n",
       "52012  python|arrays|numpy|options|output-formatting         python   \n",
       "\n",
       "       Year_month          Time    yr    month  \\\n",
       "52007  2010-01-01  01:00:23.390  2010  2010-01   \n",
       "52007  2010-01-01  01:00:23.390  2010  2010-01   \n",
       "52009  2010-01-01  01:24:43.583  2010  2010-01   \n",
       "52009  2010-01-01  01:24:43.583  2010  2010-01   \n",
       "52012  2010-01-01  01:51:46.140  2010  2010-01   \n",
       "\n",
       "                                              Tags-3  \n",
       "52007                                  python syntax  \n",
       "52007                                  python syntax  \n",
       "52009                           python python-sphinx  \n",
       "52009                           python python-sphinx  \n",
       "52012  python arrays numpy options output-formatting  "
      ]
     },
     "execution_count": 11,
     "metadata": {},
     "output_type": "execute_result"
    }
   ],
   "source": [
    "# Create a new coloumn that changes the delimeter of the tags to a space\n",
    "df_new[\"Tags-3\"] = df_new[\"Tags\"].str.replace('|', \" \")\n",
    "df_new.head()"
   ]
  },
  {
   "cell_type": "code",
   "execution_count": 12,
   "id": "96cccc2a",
   "metadata": {
    "ExecuteTime": {
     "end_time": "2021-08-27T09:52:16.559954Z",
     "start_time": "2021-08-27T09:52:16.557671Z"
    }
   },
   "outputs": [],
   "source": [
    "# Save to csv\n",
    "#df_new.to_csv(\"processed_data.csv\")"
   ]
  },
  {
   "cell_type": "markdown",
   "id": "3b257066",
   "metadata": {},
   "source": [
    "### 2. Split the data into 10 different years"
   ]
  },
  {
   "cell_type": "code",
   "execution_count": 13,
   "id": "44ce72fa",
   "metadata": {
    "ExecuteTime": {
     "end_time": "2021-08-27T09:52:16.563905Z",
     "start_time": "2021-08-27T09:52:16.561598Z"
    }
   },
   "outputs": [],
   "source": [
    "# Read the data - Start here when reopining the notebook\n",
    "# df_new = pd.read_csv(\"processed_data.csv\")"
   ]
  },
  {
   "cell_type": "code",
   "execution_count": 14,
   "id": "f7e49595",
   "metadata": {
    "ExecuteTime": {
     "end_time": "2021-08-27T09:52:19.802733Z",
     "start_time": "2021-08-27T09:52:16.565520Z"
    }
   },
   "outputs": [],
   "source": [
    "df_2010 = df_new[df_new[\"yr\"] == 2010]\n",
    "df_2011 = df_new[df_new[\"yr\"] == 2011]\n",
    "df_2012 = df_new[df_new[\"yr\"] == 2012]\n",
    "df_2013 = df_new[df_new[\"yr\"] == 2013]\n",
    "df_2014 = df_new[df_new[\"yr\"] == 2014]\n",
    "df_2015 = df_new[df_new[\"yr\"] == 2015]\n",
    "df_2016 = df_new[df_new[\"yr\"] == 2016]\n",
    "df_2017 = df_new[df_new[\"yr\"] == 2017]\n",
    "df_2018 = df_new[df_new[\"yr\"] == 2018]\n",
    "df_2019 = df_new[df_new[\"yr\"] == 2019]\n",
    "df_2020 = df_new[df_new[\"yr\"] == 2020]\n",
    "\n",
    "# Create a list of all dataframes\n",
    "dfs = [df_2010, df_2011, df_2012, df_2013, df_2014,\n",
    "       df_2015, df_2016, df_2017, df_2018, df_2019]"
   ]
  },
  {
   "cell_type": "markdown",
   "id": "bb297ce3",
   "metadata": {},
   "source": [
    "### 3. Perform TFIDF\n",
    "\n",
    "- TFIDF was used to vectorize the tags obtained. \n",
    "- A TFIDF matrix was created for each year. "
   ]
  },
  {
   "cell_type": "code",
   "execution_count": 15,
   "id": "bf960c3f",
   "metadata": {
    "ExecuteTime": {
     "end_time": "2021-08-27T09:52:46.392891Z",
     "start_time": "2021-08-27T09:52:19.804460Z"
    }
   },
   "outputs": [
    {
     "name": "stdout",
     "output_type": "stream",
     "text": [
      "(81481, 66)\n",
      "(127889, 114)\n",
      "(193660, 168)\n",
      "(296503, 250)\n",
      "(363444, 291)\n",
      "(432487, 338)\n",
      "(507073, 367)\n",
      "(623219, 426)\n",
      "(675790, 448)\n",
      "(815848, 507)\n"
     ]
    }
   ],
   "source": [
    "# Perform TFIDF for every year\n",
    "vecs = ['vec_2010', 'vec_2011', 'vec_2012', 'vec_2013', 'vec_2014',\n",
    "        'vec_2015', 'vec_2016', 'vec_2017', 'vec_2018', 'vec_2019']\n",
    "df_tfidf = []\n",
    "for i, data in enumerate(dfs):\n",
    "    vecs[i] = TfidfVectorizer(min_df=500, token_pattern=r\"(?u)\\S\\S+\")\n",
    "    df_tfidf.append(vecs[i].fit_transform(data[\"Tags-3\"]))\n",
    "    print(df_tfidf[i].shape)"
   ]
  },
  {
   "cell_type": "code",
   "execution_count": 16,
   "id": "9866253f",
   "metadata": {
    "ExecuteTime": {
     "end_time": "2021-08-27T09:52:46.409909Z",
     "start_time": "2021-08-27T09:52:46.395077Z"
    }
   },
   "outputs": [
    {
     "name": "stdout",
     "output_type": "stream",
     "text": [
      "                 term          rank\n",
      "44             python  37810.009108\n",
      "10             django   8312.146220\n",
      "17  google-app-engine   3368.361745\n",
      "27               list   1769.661046\n",
      "48              regex   1561.945521\n",
      "55             string   1491.339269\n",
      "63            windows   1401.152529\n",
      "35              numpy   1338.699967\n",
      "26              linux   1265.086576\n",
      "9          dictionary   1212.075421\n",
      "13      django-models   1196.878012\n",
      "4                 c++   1175.721431\n",
      "23               java   1120.212815\n",
      "33     multithreading   1092.028562\n",
      "64           wxpython   1063.562316\n",
      "34              mysql   1031.502234\n",
      "57            tkinter    995.024267\n",
      "30              macos    972.430093\n",
      "45         python-3.x    969.699040\n",
      "53         sqlalchemy    938.296224\n",
      "39                php    893.946288\n",
      "65                xml    872.055483\n",
      "19               html    850.815373\n",
      "41             pylons    818.107676\n",
      "31         matplotlib    807.398001\n",
      "24         javascript    803.193631\n",
      "58            twisted    787.550170\n",
      "59            unicode    786.096046\n",
      "37            parsing    747.029089\n",
      "15               file    737.027882\n",
      "38        performance    729.539382\n",
      "5               class    707.975360\n",
      "7            database    704.821625\n",
      "42               pyqt    694.953685\n",
      "60       unit-testing    690.539389\n",
      "62     user-interface    671.640143\n",
      "40              pygtk    671.082088\n",
      "51            sockets    665.976178\n",
      "22             import    638.455032\n",
      "49               ruby    633.710724\n",
      "56         subprocess    629.629395\n",
      "0           algorithm    628.045217\n",
      "32             module    607.219048\n",
      "52                sql    599.547041\n",
      "54             sqlite    598.969379\n",
      "61            urllib2    579.209010\n",
      "8            datetime    572.023592\n",
      "50              scipy    563.323299\n",
      "3                  c#    559.627479\n",
      "25               json    549.405458\n"
     ]
    }
   ],
   "source": [
    "# Inspect the top terms obtained for 1 year from TFIDF\n",
    "terms = vecs[0].get_feature_names()\n",
    "\n",
    "# sum tfidf frequency of each term through documents\n",
    "sums = df_tfidf[0].sum(axis=0)\n",
    "\n",
    "# connecting term to its sums frequency\n",
    "data = []\n",
    "for col, term in enumerate(terms):\n",
    "    data.append((term, sums[0,col]))\n",
    "\n",
    "ranking = pd.DataFrame(data, columns=['term','rank'])\n",
    "rank = ranking.sort_values('rank', ascending=False)\n",
    "print(rank[:50])"
   ]
  },
  {
   "cell_type": "markdown",
   "id": "1b792502",
   "metadata": {},
   "source": [
    "### 4. Perform SVD\n",
    "- SVD was tested using one year data to assess performance.\n",
    "- Upon checking, it was observed that limitations on computational capacity allows us to run only a limited amount of model components which reaches approximately 50% of explained variance.  "
   ]
  },
  {
   "cell_type": "code",
   "execution_count": null,
   "id": "55b039e3",
   "metadata": {
    "ExecuteTime": {
     "start_time": "2021-08-27T09:51:21.552Z"
    }
   },
   "outputs": [],
   "source": [
    "# Test run the SVD\n",
    "svd_model = TruncatedSVD(n_components=100) # captures 50% of variance explained\n",
    "svd_model.fit(df_tfidf[9])\n",
    "model = svd_model.fit_transform(df_tfidf[9])\n",
    "terms = vecs[9].get_feature_names()\n",
    "\n",
    "pd.DataFrame(model)"
   ]
  },
  {
   "cell_type": "code",
   "execution_count": null,
   "id": "01a2f560",
   "metadata": {
    "ExecuteTime": {
     "start_time": "2021-08-27T09:51:21.557Z"
    },
    "scrolled": true
   },
   "outputs": [],
   "source": [
    "# Check the explained variance ratio obtained for one year\n",
    "ve = svd_model.explained_variance_ratio_\n",
    "ve"
   ]
  },
  {
   "cell_type": "code",
   "execution_count": null,
   "id": "adf9da56",
   "metadata": {
    "ExecuteTime": {
     "start_time": "2021-08-27T09:51:21.561Z"
    }
   },
   "outputs": [],
   "source": [
    "# Check the cumulative explained variance ratio obtained for one year\n",
    "ve.cumsum()"
   ]
  },
  {
   "cell_type": "code",
   "execution_count": null,
   "id": "0b4f0a3a",
   "metadata": {
    "ExecuteTime": {
     "start_time": "2021-08-27T09:51:21.566Z"
    }
   },
   "outputs": [],
   "source": [
    "# Plot the explained variance obtained\n",
    "fig, ax = plt.subplots()\n",
    "ax.plot(range(1, len(ve)+1), ve, 'o-', label='individual')\n",
    "ax.plot(range(1, len(ve)+1), ve.cumsum(), 'o-', label='cumulative')\n",
    "ax.legend()\n",
    "ax.set_ylim(0, 1)\n",
    "ax.set_xlabel('SV')\n",
    "ax.set_ylabel('variance explained');"
   ]
  },
  {
   "cell_type": "code",
   "execution_count": null,
   "id": "fb478c47",
   "metadata": {
    "ExecuteTime": {
     "start_time": "2021-08-27T09:51:21.576Z"
    }
   },
   "outputs": [],
   "source": [
    "# Check the best features for one SV\n",
    "best_features = [(terms[i], svd_model.components_[0][i]) \n",
    "                 for i in svd_model.components_[0].argsort()[::-1]]\n",
    "best_features[:10]"
   ]
  },
  {
   "cell_type": "markdown",
   "id": "66f01043",
   "metadata": {},
   "source": [
    "### 5. Perform SVD\n",
    "- SVD was iterated over all years to obtain the SVs per year"
   ]
  },
  {
   "cell_type": "code",
   "execution_count": null,
   "id": "6992e10c",
   "metadata": {
    "ExecuteTime": {
     "start_time": "2021-08-27T09:51:21.583Z"
    }
   },
   "outputs": [],
   "source": [
    "# Obtain the SVD results for all years\n",
    "\n",
    "df_all = pd.DataFrame()\n",
    "for i, year in tqdm(enumerate(np.arange(2010, 2020))):\n",
    "    if i == 0:\n",
    "        svd_model = TruncatedSVD(n_components=50)\n",
    "        svd_model.fit(df_tfidf[i])\n",
    "        terms = vecs[i].get_feature_names()\n",
    "    else:\n",
    "        svd_model = TruncatedSVD(n_components=100)\n",
    "        svd_model.fit(df_tfidf[i])\n",
    "        terms = vecs[i].get_feature_names()\n",
    "        \n",
    "    df_tags = pd.DataFrame()\n",
    "    d_all = {}\n",
    "    for i, comp in enumerate(svd_model.components_):   \n",
    "        if i != 11:\n",
    "            best_features = [(terms[n], np.abs(svd_model.components_[i][n]))\n",
    "                 for n in np.abs(svd_model.components_[i].argsort())[::-1]]  \n",
    "            d_ = {}\n",
    "            d_[\"SV_\"+str(i)] = best_features  \n",
    "            d_all.update(d_)\n",
    "        else:\n",
    "            break\n",
    "    df_tags = df_tags.from_dict(d_all)\n",
    "    df_tags['year'] = year\n",
    "    df_all = df_all.append(df_tags)\n",
    "    display(df_all)"
   ]
  },
  {
   "cell_type": "code",
   "execution_count": null,
   "id": "181cb05d",
   "metadata": {
    "ExecuteTime": {
     "start_time": "2021-08-27T09:51:21.585Z"
    }
   },
   "outputs": [],
   "source": [
    "# Save the results to csv\n",
    "# df_all.to_csv(\"svd_results_wordlist_v4.csv\")"
   ]
  },
  {
   "cell_type": "markdown",
   "id": "05c9004b",
   "metadata": {},
   "source": [
    "# Appendix: Test\n",
    "\n",
    "- Results of the sklearn SVD was compared to a user-defined function of truncated SVD to check comparativeness of results\n",
    "\n",
    "a. Test using user-defined function"
   ]
  },
  {
   "cell_type": "code",
   "execution_count": null,
   "id": "f0fe6880",
   "metadata": {
    "ExecuteTime": {
     "start_time": "2021-08-27T09:51:21.588Z"
    }
   },
   "outputs": [],
   "source": [
    "# Create user-defined function\n",
    "def truncated_svd(X):\n",
    "    \"\"\"Given input design matrix, return q, sigma, p and normalized sum of\n",
    "    squared distance from the origin.\n",
    "    \"\"\"\n",
    "    q, sv, p = np.linalg.svd(X)\n",
    "    s = np.diag(sv)\n",
    "    p = p.T\n",
    "    ssd = (sv**2)/sum(sv**2)\n",
    "    return q, s, p, ssd"
   ]
  },
  {
   "cell_type": "code",
   "execution_count": null,
   "id": "d9a2bdae",
   "metadata": {
    "ExecuteTime": {
     "start_time": "2021-08-27T09:51:21.592Z"
    }
   },
   "outputs": [],
   "source": [
    "# Run TFIDF for a smaller dataframe\n",
    "vectorizer = TfidfVectorizer()\n",
    "test = vectorizer.fit_transform(df_2010[\"Tags-3\"].head(100))\n",
    "test"
   ]
  },
  {
   "cell_type": "code",
   "execution_count": null,
   "id": "cb33c316",
   "metadata": {
    "ExecuteTime": {
     "start_time": "2021-08-27T09:51:21.595Z"
    }
   },
   "outputs": [],
   "source": [
    "# Run the user-defined truncated svd\n",
    "q_ng, s_ng, p_ng, nssd_ng = truncated_svd(test.toarray())\n",
    "len(nssd_ng)"
   ]
  },
  {
   "cell_type": "code",
   "execution_count": null,
   "id": "5b925f84",
   "metadata": {
    "ExecuteTime": {
     "start_time": "2021-08-27T09:51:21.598Z"
    }
   },
   "outputs": [],
   "source": [
    "# Visualize explained ratio results\n",
    "fig, ax = plt.subplots()\n",
    "ax.plot(range(1, len(nssd_ng)+1), nssd_ng, '-', label='individual')\n",
    "ax.set_xlim(0, len(nssd_ng)+1)\n",
    "ax.set_xlabel('SV')\n",
    "ax.set_ylabel('variance explained')\n",
    "ax = ax.twinx()\n",
    "ax.plot(range(1, len(nssd_ng)+1), nssd_ng.cumsum(), 'r-', label='cumulative')\n",
    "ax.axhline(0.9, ls='--', color='g')\n",
    "ax.axvline(662, ls='--', color='g')\n",
    "ax.set_ylabel('cumulative variance explained');"
   ]
  },
  {
   "cell_type": "code",
   "execution_count": null,
   "id": "dec718b5",
   "metadata": {
    "ExecuteTime": {
     "start_time": "2021-08-27T09:51:21.602Z"
    }
   },
   "outputs": [],
   "source": [
    "# Visualize best features results\n",
    "feature_names = vectorizer.get_feature_names()\n",
    "for i in range(10):\n",
    "    fig, ax = plt.subplots()\n",
    "    order = np.argsort(np.abs(p_ng[:, i]))[-10:]\n",
    "    ax.barh([feature_names[o] for o in order], p_ng[order, i])\n",
    "    ax.set_title(f'SV{i+1}')"
   ]
  },
  {
   "cell_type": "markdown",
   "id": "021dacf2",
   "metadata": {},
   "source": [
    "b. Test and compare results using sklearn"
   ]
  },
  {
   "cell_type": "code",
   "execution_count": null,
   "id": "4016d1d8",
   "metadata": {
    "ExecuteTime": {
     "start_time": "2021-08-27T09:51:21.605Z"
    }
   },
   "outputs": [],
   "source": [
    "# Perform SVD using sklearn\n",
    "svd_model = TruncatedSVD(algorithm='arpack', n_components=65) # captures 50% of variance explained\n",
    "svd_model.fit(test)\n",
    "terms = vectorizer.get_feature_names()"
   ]
  },
  {
   "cell_type": "code",
   "execution_count": null,
   "id": "dceb7419",
   "metadata": {
    "ExecuteTime": {
     "start_time": "2021-08-27T09:51:21.607Z"
    }
   },
   "outputs": [],
   "source": [
    "# Check and compare best features with the user-defined function\n",
    "best_features = [(terms[i], np.abs(svd_model.components_[1][i]))\n",
    "                 for i in np.abs(svd_model.components_[1].argsort())[::-1]]\n",
    "best_features[:10]"
   ]
  },
  {
   "cell_type": "code",
   "execution_count": null,
   "id": "5ebbb43e",
   "metadata": {
    "ExecuteTime": {
     "start_time": "2021-08-27T09:51:21.609Z"
    }
   },
   "outputs": [],
   "source": [
    "# Check and compare explained variance with the user-defined function\n",
    "ve = svd_model.explained_variance_ratio_\n",
    "fig, ax = plt.subplots()\n",
    "ax.plot(range(1, len(ve)+1), ve, 'o-', label='individual')\n",
    "ax.plot(range(1, len(ve)+1), ve.cumsum(), 'o-', label='cumulative')\n",
    "ax.legend()\n",
    "ax.set_ylim(0, 1)\n",
    "ax.set_xlabel('SV')\n",
    "ax.set_ylabel('variance explained');"
   ]
  },
  {
   "cell_type": "code",
   "execution_count": null,
   "id": "766387bb",
   "metadata": {},
   "outputs": [],
   "source": []
  }
 ],
 "metadata": {
  "kernelspec": {
   "display_name": "Python 3",
   "language": "python",
   "name": "python3"
  },
  "language_info": {
   "codemirror_mode": {
    "name": "ipython",
    "version": 3
   },
   "file_extension": ".py",
   "mimetype": "text/x-python",
   "name": "python",
   "nbconvert_exporter": "python",
   "pygments_lexer": "ipython3",
   "version": "3.8.8"
  },
  "toc": {
   "base_numbering": 1,
   "nav_menu": {},
   "number_sections": true,
   "sideBar": true,
   "skip_h1_title": false,
   "title_cell": "Table of Contents",
   "title_sidebar": "Contents",
   "toc_cell": false,
   "toc_position": {},
   "toc_section_display": true,
   "toc_window_display": false
  }
 },
 "nbformat": 4,
 "nbformat_minor": 5
}
