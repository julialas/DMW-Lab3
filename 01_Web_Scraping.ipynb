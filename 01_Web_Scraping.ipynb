{
 "cells": [
  {
   "cell_type": "code",
   "execution_count": 1,
   "id": "4520e9ad",
   "metadata": {
    "ExecuteTime": {
     "end_time": "2021-08-19T17:35:34.672358Z",
     "start_time": "2021-08-19T17:35:33.884877Z"
    }
   },
   "outputs": [],
   "source": [
    "import requests\n",
    "import pandas as pd\n",
    "import numpy as np\n",
    "import bs4\n",
    "from xml.etree import ElementTree as ET\n",
    "from tqdm import tqdm"
   ]
  },
  {
   "cell_type": "code",
   "execution_count": 2,
   "id": "7354fe10",
   "metadata": {
    "ExecuteTime": {
     "end_time": "2021-08-19T17:35:34.678378Z",
     "start_time": "2021-08-19T17:35:34.675062Z"
    }
   },
   "outputs": [],
   "source": [
    "file = '/mnt/data/public/stackexchange/Posts.xml' #Total Lines : 47_931_103"
   ]
  },
  {
   "cell_type": "code",
   "execution_count": 3,
   "id": "25b62695",
   "metadata": {
    "ExecuteTime": {
     "end_time": "2021-08-19T17:35:34.994458Z",
     "start_time": "2021-08-19T17:35:34.987913Z"
    }
   },
   "outputs": [],
   "source": [
    "keywords = [\n",
    "'shell',\n",
    "'python',\n",
    "'numpy',\n",
    "'pandas',\n",
    "'matplotlib',\n",
    "'seaborn',\n",
    "'plotly',\n",
    "'git',\n",
    "'json',\n",
    "'xml',\n",
    "'sql',\n",
    "'sql-server',\n",
    "'sqlite3',\n",
    "'regex',\n",
    "'beautiful soup',\n",
    "'bs4',\n",
    "'requests',\n",
    "'api',\n",
    "'sklearn',\n",
    "'scikit-learn',\n",
    "]"
   ]
  },
  {
   "cell_type": "code",
   "execution_count": 7,
   "id": "32fea23b",
   "metadata": {
    "ExecuteTime": {
     "end_time": "2021-08-19T17:36:43.258960Z",
     "start_time": "2021-08-19T17:36:43.246969Z"
    }
   },
   "outputs": [],
   "source": [
    "init_df = pd.DataFrame(columns = ['XML_Line','Date','Title','Tags'])\n",
    "init_df.to_csv('stackexchange_data.csv')"
   ]
  },
  {
   "cell_type": "code",
   "execution_count": 8,
   "id": "45761b79",
   "metadata": {
    "ExecuteTime": {
     "end_time": "2021-08-19T20:21:24.899474Z",
     "start_time": "2021-08-19T17:36:43.925161Z"
    }
   },
   "outputs": [
    {
     "name": "stdout",
     "output_type": "stream",
     "text": [
      "0 0\n",
      "500000 14987\n",
      "1000000 31831\n",
      "1500000 50114\n",
      "2000000 68497\n",
      "2500000 87082\n",
      "3000000 106854\n",
      "3500000 126694\n",
      "4000000 145749\n",
      "4500000 164566\n",
      "5000000 183659\n",
      "5500000 203086\n",
      "6000000 222447\n",
      "6500000 241896\n",
      "7000000 261535\n",
      "7500000 280773\n",
      "8000000 301107\n",
      "8500000 321584\n",
      "9000000 342594\n",
      "9500000 364133\n",
      "10000000 386089\n",
      "10500000 407843\n",
      "11000000 429829\n",
      "11500000 452873\n",
      "12000000 475244\n",
      "12500000 498937\n",
      "13000000 522335\n",
      "13500000 546390\n",
      "14000000 570907\n",
      "14500000 596114\n",
      "15000000 620765\n",
      "15500000 646900\n",
      "16000000 673868\n",
      "16500000 702056\n",
      "17000000 730045\n",
      "17500000 757748\n",
      "18000000 786249\n",
      "18500000 815327\n",
      "19000000 845300\n",
      "19500000 874761\n",
      "20000000 905204\n",
      "20500000 935993\n",
      "21000000 965824\n",
      "21500000 995554\n",
      "22000000 1024332\n",
      "22500000 1052731\n",
      "23000000 1082109\n",
      "23500000 1112032\n",
      "24000000 1141603\n",
      "24500000 1170820\n",
      "25000000 1200761\n",
      "25500000 1231216\n",
      "26000000 1261581\n",
      "26500000 1291037\n",
      "27000000 1322039\n",
      "27500000 1354069\n",
      "28000000 1384907\n",
      "28500000 1416759\n",
      "29000000 1449032\n",
      "29500000 1480858\n",
      "30000000 1512654\n",
      "30500000 1544914\n",
      "31000000 1577703\n",
      "31500000 1610288\n",
      "32000000 1643059\n",
      "32500000 1677343\n",
      "33000000 1712382\n",
      "33500000 1745846\n",
      "34000000 1780972\n",
      "34500000 1816970\n",
      "35000000 1853451\n",
      "35500000 1890116\n",
      "36000000 1927539\n",
      "36500000 1964344\n",
      "37000000 2001536\n",
      "37500000 2040401\n",
      "38000000 2079929\n",
      "38500000 2118893\n",
      "39000000 2159028\n",
      "39500000 2197956\n",
      "40000000 2237888\n",
      "40500000 2278242\n",
      "41000000 2319286\n",
      "41500000 2359391\n",
      "42000000 2400138\n",
      "42500000 2442805\n",
      "43000000 2483004\n",
      "43500000 2525471\n",
      "44000000 2570756\n",
      "44500000 2616623\n",
      "45000000 2662197\n",
      "45500000 2709267\n",
      "46000000 2753670\n",
      "46500000 2801334\n",
      "47000000 2849823\n",
      "47500000 2896959\n"
     ]
    },
    {
     "ename": "ParseError",
     "evalue": "not well-formed (invalid token): line 1, column 1 (<string>)",
     "output_type": "error",
     "traceback": [
      "Traceback \u001b[0;36m(most recent call last)\u001b[0m:\n",
      "  File \u001b[1;32m\"/opt/conda/lib/python3.8/site-packages/IPython/core/interactiveshell.py\"\u001b[0m, line \u001b[1;32m3437\u001b[0m, in \u001b[1;35mrun_code\u001b[0m\n    exec(code_obj, self.user_global_ns, self.user_ns)\n",
      "  File \u001b[1;32m\"<ipython-input-8-5adc592e8e16>\"\u001b[0m, line \u001b[1;32m5\u001b[0m, in \u001b[1;35m<module>\u001b[0m\n    row = ET.fromstring(row)\n",
      "\u001b[0;36m  File \u001b[0;32m\"/opt/conda/lib/python3.8/xml/etree/ElementTree.py\"\u001b[0;36m, line \u001b[0;32m1320\u001b[0;36m, in \u001b[0;35mXML\u001b[0;36m\u001b[0m\n\u001b[0;31m    parser.feed(text)\u001b[0m\n",
      "\u001b[0;36m  File \u001b[0;32m\"<string>\"\u001b[0;36m, line \u001b[0;32munknown\u001b[0m\n\u001b[0;31mParseError\u001b[0m\u001b[0;31m:\u001b[0m not well-formed (invalid token): line 1, column 1\n"
     ]
    }
   ],
   "source": [
    "length_appended = 0\n",
    "# Read XML file line by line and append rows to scraped dataframe line by line\n",
    "# as to avoid memory issues. \n",
    "with open(file,'r', encoding=\"utf-8\") as f:\n",
    "    for i,row in enumerate(f):\n",
    "        if i > 1:\n",
    "            row = ET.fromstring(row)\n",
    "            data = {'Line_No' : [i],\n",
    "                    'Date' : [row.get('CreationDate')],\n",
    "                    'Title' : [row.get('Title')],\n",
    "                    'Tags' : [row.get('Tags')]}\n",
    "            if [None] not in list(data.values()):\n",
    "                data['Tags'] = data['Tags'][0].replace('><','|')\\\n",
    "                                              .replace('<','')\\\n",
    "                                              .replace('>','')\n",
    "                tags = data['Tags'].split('|')\n",
    "\n",
    "                if len([k for k in keywords if k in tags]) != 0:\n",
    "                    length_appended += 1\n",
    "                    df = pd.DataFrame(data)\n",
    "                    df.to_csv('stackexchange_data.csv',\n",
    "                              mode='a',\n",
    "                              header=False)\n",
    "        if i % 500_000 == 0:\n",
    "            print(i, length_appended)"
   ]
  },
  {
   "cell_type": "code",
   "execution_count": null,
   "id": "23dae888",
   "metadata": {},
   "outputs": [],
   "source": []
  }
 ],
 "metadata": {
  "kernelspec": {
   "display_name": "Python 3",
   "language": "python",
   "name": "python3"
  },
  "language_info": {
   "codemirror_mode": {
    "name": "ipython",
    "version": 3
   },
   "file_extension": ".py",
   "mimetype": "text/x-python",
   "name": "python",
   "nbconvert_exporter": "python",
   "pygments_lexer": "ipython3",
   "version": "3.8.8"
  },
  "toc": {
   "base_numbering": 1,
   "nav_menu": {},
   "number_sections": true,
   "sideBar": true,
   "skip_h1_title": false,
   "title_cell": "Table of Contents",
   "title_sidebar": "Contents",
   "toc_cell": false,
   "toc_position": {},
   "toc_section_display": true,
   "toc_window_display": false
  }
 },
 "nbformat": 4,
 "nbformat_minor": 5
}
